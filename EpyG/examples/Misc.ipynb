{
 "cells": [
  {
   "cell_type": "code",
   "execution_count": 1,
   "metadata": {
    "collapsed": false
   },
   "outputs": [
    {
     "name": "stdout",
     "output_type": "stream",
     "text": [
      "Populating the interactive namespace from numpy and matplotlib\n"
     ]
    }
   ],
   "source": [
    "%load_ext autoreload\n",
    "import numpy as np\n",
    "from numpy import *\n",
    "import EpyG.EpyG as epg\n",
    "%pylab inline"
   ]
  },
  {
   "cell_type": "code",
   "execution_count": 2,
   "metadata": {
    "collapsed": false
   },
   "outputs": [
    {
     "name": "stdout",
     "output_type": "stream",
     "text": [
      "[[1 0 0 0 0 0 0]\n",
      " [0 0 0 0 0 0 0]]\n",
      "[[0 1 0 0 0 0 0]\n",
      " [0 0 0 0 0 0 0]]\n",
      "[[0 0 1 0 0 0 0]\n",
      " [0 0 0 0 0 0 0]]\n",
      "[[0 0 0 1 0 0 0]\n",
      " [0 0 0 0 0 0 0]]\n",
      "[[0 0 0 0 1 0 0]\n",
      " [0 0 0 0 0 0 0]]\n",
      "[[0 0 0 0 0 1 0]\n",
      " [0 0 0 0 0 0 0]]\n",
      "[[0 0 0 0 0 0 1]\n",
      " [0 0 0 0 0 0 0]]\n"
     ]
    },
    {
     "ename": "ValueError",
     "evalue": "could not broadcast input array from shape (7) into shape (6)",
     "output_type": "error",
     "traceback": [
      "\u001b[0;31m---------------------------------------------------------------------------\u001b[0m",
      "\u001b[0;31mValueError\u001b[0m                                Traceback (most recent call last)",
      "\u001b[0;32m<ipython-input-2-b14de8dc913a>\u001b[0m in \u001b[0;36m<module>\u001b[0;34m()\u001b[0m\n\u001b[1;32m      7\u001b[0m     \u001b[0;32mprint\u001b[0m \u001b[0ma\u001b[0m\u001b[0;34m\u001b[0m\u001b[0m\n\u001b[1;32m      8\u001b[0m     \u001b[0mmaxstate\u001b[0m \u001b[0;34m+=\u001b[0m \u001b[0;36m1\u001b[0m\u001b[0;34m\u001b[0m\u001b[0m\n\u001b[0;32m----> 9\u001b[0;31m     \u001b[0ma\u001b[0m\u001b[0;34m[\u001b[0m\u001b[0;36m0\u001b[0m\u001b[0;34m,\u001b[0m\u001b[0;36m1\u001b[0m\u001b[0;34m:\u001b[0m\u001b[0mmaxstate\u001b[0m\u001b[0;34m]\u001b[0m \u001b[0;34m=\u001b[0m \u001b[0ma\u001b[0m\u001b[0;34m[\u001b[0m\u001b[0;36m0\u001b[0m\u001b[0;34m,\u001b[0m\u001b[0;36m0\u001b[0m\u001b[0;34m:\u001b[0m\u001b[0mmaxstate\u001b[0m\u001b[0;34m-\u001b[0m\u001b[0;36m1\u001b[0m\u001b[0;34m]\u001b[0m\u001b[0;34m\u001b[0m\u001b[0m\n\u001b[0m\u001b[1;32m     10\u001b[0m     \u001b[0ma\u001b[0m\u001b[0;34m[\u001b[0m\u001b[0;36m0\u001b[0m\u001b[0;34m,\u001b[0m\u001b[0;36m0\u001b[0m\u001b[0;34m]\u001b[0m \u001b[0;34m=\u001b[0m \u001b[0ma\u001b[0m\u001b[0;34m[\u001b[0m\u001b[0;36m1\u001b[0m\u001b[0;34m,\u001b[0m\u001b[0;36m0\u001b[0m\u001b[0;34m]\u001b[0m\u001b[0;34m\u001b[0m\u001b[0m\n\u001b[1;32m     11\u001b[0m     \u001b[0ma\u001b[0m\u001b[0;34m[\u001b[0m\u001b[0;36m1\u001b[0m\u001b[0;34m,\u001b[0m\u001b[0;36m0\u001b[0m\u001b[0;34m:\u001b[0m\u001b[0mmaxstate\u001b[0m\u001b[0;34m-\u001b[0m\u001b[0;36m1\u001b[0m\u001b[0;34m]\u001b[0m \u001b[0;34m=\u001b[0m \u001b[0ma\u001b[0m\u001b[0;34m[\u001b[0m\u001b[0;36m1\u001b[0m\u001b[0;34m,\u001b[0m\u001b[0;36m1\u001b[0m\u001b[0;34m:\u001b[0m\u001b[0mmaxstate\u001b[0m\u001b[0;34m]\u001b[0m\u001b[0;34m\u001b[0m\u001b[0m\n",
      "\u001b[0;31mValueError\u001b[0m: could not broadcast input array from shape (7) into shape (6)"
     ]
    }
   ],
   "source": [
    "a = array([[1,0,0,0,0,0,0],\n",
    "           [0,0,0,0,0,0,0]])\n",
    "\n",
    "maxstate = 1\n",
    "\n",
    "for i in range(7):\n",
    "    print a\n",
    "    maxstate += 1\n",
    "    a[0,1:maxstate] = a[0,0:maxstate-1]\n",
    "    a[0,0] = a[1,0]\n",
    "    a[1,0:maxstate-1] = a[1,1:maxstate]\n",
    "    \n",
    "    "
   ]
  },
  {
   "cell_type": "code",
   "execution_count": 3,
   "metadata": {
    "collapsed": false
   },
   "outputs": [
    {
     "data": {
      "text/plain": [
       "[<matplotlib.lines.Line2D at 0x10d2522d0>]"
      ]
     },
     "execution_count": 3,
     "metadata": {},
     "output_type": "execute_result"
    },
    {
     "data": {
      "image/png": "[encoded data removed]",
      "text/plain": [
       "<matplotlib.figure.Figure at 0x10ab68690>"
      ]
     },
     "metadata": {},
     "output_type": "display_data"
    }
   ],
   "source": [
    "%autoreload 2\n",
    "state = epg.EpyG(initial_size=2048)\n",
    "N=2000\n",
    "TR=1.0\n",
    "T1=TR/0.025\n",
    "T2=TR/0.05\n",
    "alpha = deg2rad(5.0)\n",
    "S = epg.Shift()\n",
    "PHI = np.deg2rad(117.0)\n",
    "E = epg.Epsilon(TR/T1, TR/T2)\n",
    "a = []\n",
    "incr = PHI\n",
    "phi = 0.0\n",
    "for i in range(N):\n",
    "    #print state.max_state\n",
    "    phi += i*incr\n",
    "    T = epg.Transform(alpha=alpha, phi=phi)\n",
    "    state = T*state\n",
    "    a.append(np.real(state.get_F(0,rx_phase=phi)))\n",
    "    state = E*(S*state)\n",
    "    \n",
    "plot(a)\n"
   ]
  },
  {
   "cell_type": "markdown",
   "metadata": {
    "collapsed": false
   },
   "source": []
  },
  {
   "cell_type": "code",
   "execution_count": 4,
   "metadata": {
    "collapsed": false
   },
   "outputs": [
    {
     "data": {
      "text/plain": [
       "array([0])"
      ]
     },
     "execution_count": 4,
     "metadata": {},
     "output_type": "execute_result"
    }
   ],
   "source": [
    "import numpy as np\n",
    "a = np.arange(6)\n",
    "a[0:1]"
   ]
  },
  {
   "cell_type": "code",
   "execution_count": 5,
   "metadata": {
    "collapsed": true
   },
   "outputs": [],
   "source": [
    "a = np.array(range(10))"
   ]
  },
  {
   "cell_type": "code",
   "execution_count": 6,
   "metadata": {
    "collapsed": false
   },
   "outputs": [
    {
     "data": {
      "text/plain": [
       "1.0"
      ]
     },
     "execution_count": 6,
     "metadata": {},
     "output_type": "execute_result"
    }
   ],
   "source": [
    "exp(-0.0/1000.0)"
   ]
  },
  {
   "cell_type": "code",
   "execution_count": 7,
   "metadata": {
    "collapsed": false
   },
   "outputs": [],
   "source": [
    "ep = epg.EpyG(initial_size=32)"
   ]
  },
  {
   "cell_type": "code",
   "execution_count": 19,
   "metadata": {
    "collapsed": false
   },
   "outputs": [],
   "source": [
    "T = epg.Transform(alpha=deg2rad(90.0),phi=0.0)\n",
    "S = epg.Shift()\n",
    "S_inv = epg.Shift(shifts=-1)"
   ]
  },
  {
   "cell_type": "code",
   "execution_count": 34,
   "metadata": {
    "collapsed": false
   },
   "outputs": [
    {
     "data": {
      "text/html": [
       "<table><tr><td>k</td><td>0</td><td>1</td><td>2</td><td>3</td><td>4</td><td>5</td><td>6</td><td>7</td><td>8</td><td>9</td><td>10</td><td>11</td><td>12</td><td>13</td><td>14</td><td>15</td><td>16</td></tr><tr><td>F+</td><td>0.000+0.047j </td><td>0.000+0.153j </td><td>0.000+0.421j </td><td>0.000+0.046j </td><td>0.000-0.121j </td><td>0.000-0.171j </td><td>0.000+0.034j </td><td>0.000+0.278j </td><td>0.000-0.410j </td><td>0.000+0.163j </td><td>0.000+0.055j </td><td>0.000-0.061j </td><td>0.000+0.018j </td><td>0.000-0.002j </td><td>0.000+0.000j </td><td>0.000+0.000j </td><td>0.000-0.000j </td></tr><tr><td>F-</td><td>0.000-0.047j </td><td>0.000+0.288j </td><td>0.000+0.051j </td><td>0.000+0.055j </td><td>0.000+0.057j </td><td>0.000-0.007j </td><td>0.000-0.051j </td><td>0.000+0.089j </td><td>0.000-0.023j </td><td>0.000-0.018j </td><td>0.000+0.011j </td><td>0.000-0.002j </td><td>0.000+0.000j </td><td>0.000+0.000j </td><td>0.000-0.000j </td><td>0.000+0.000j </td><td>0.000+0.000j </td></tr><tr><td>Z</td><td>0.194+0.000j </td><td>0.300+0.000j </td><td>0.010+0.000j </td><td>0.107+0.000j </td><td>0.041+0.000j </td><td>-0.073+0.000j </td><td>-0.046+0.000j </td><td>0.181+0.000j </td><td>-0.140+0.000j </td><td>-0.001+0.000j </td><td>0.036+0.000j </td><td>-0.014+0.000j </td><td>0.002+0.000j </td><td>-0.000+0.000j </td><td>-0.000+0.000j </td></tr></table>"
      ],
      "text/plain": [
       "<EpyG.EpyG.EpyG at 0x10ab68490>"
      ]
     },
     "execution_count": 34,
     "metadata": {},
     "output_type": "execute_result"
    }
   ],
   "source": [
    "T*ep\n",
    "S*ep"
   ]
  },
  {
   "cell_type": "code",
   "execution_count": 35,
   "metadata": {
    "collapsed": false
   },
   "outputs": [
    {
     "name": "stdout",
     "output_type": "stream",
     "text": [
      "(33,)\n",
      "(33,)\n"
     ]
    },
    {
     "data": {
      "image/png": "[encoded data removed]",
      "text/plain": [
       "<matplotlib.figure.Figure at 0x10d8385d0>"
      ]
     },
     "metadata": {},
     "output_type": "display_data"
    }
   ],
   "source": [
    "ep.plot()"
   ]
  },
  {
   "cell_type": "code",
   "execution_count": null,
   "metadata": {
    "collapsed": false
   },
   "outputs": [],
   "source": [
    "ep.plot()"
   ]
  },
  {
   "cell_type": "code",
   "execution_count": null,
   "metadata": {
    "collapsed": false
   },
   "outputs": [],
   "source": [
    "plt.bar()"
   ]
  },
  {
   "cell_type": "code",
   "execution_count": null,
   "metadata": {
    "collapsed": false
   },
   "outputs": [],
   "source": [
    "(T*state).state"
   ]
  },
  {
   "cell_type": "code",
   "execution_count": null,
   "metadata": {
    "collapsed": false
   },
   "outputs": [],
   "source": [
    "(T*state).get_state_matrix()"
   ]
  },
  {
   "cell_type": "code",
   "execution_count": null,
   "metadata": {
    "collapsed": false
   },
   "outputs": [],
   "source": [
    "range(0)"
   ]
  },
  {
   "cell_type": "code",
   "execution_count": 36,
   "metadata": {
    "collapsed": false
   },
   "outputs": [
    {
     "data": {
      "text/html": [
       "<table><tr><td>k</td><td>0</td><td>1</td><td>2</td><td>3</td><td>4</td><td>5</td><td>6</td><td>7</td><td>8</td><td>9</td><td>10</td><td>11</td><td>12</td><td>13</td><td>14</td><td>15</td><td>16</td></tr><tr><td>F+</td><td>0.000+0.047j </td><td>0.000+0.153j </td><td>0.000+0.421j </td><td>0.000+0.046j </td><td>0.000-0.121j </td><td>0.000-0.171j </td><td>0.000+0.034j </td><td>0.000+0.278j </td><td>0.000-0.410j </td><td>0.000+0.163j </td><td>0.000+0.055j </td><td>0.000-0.061j </td><td>0.000+0.018j </td><td>0.000-0.002j </td><td>0.000+0.000j </td><td>0.000+0.000j </td><td>0.000-0.000j </td></tr><tr><td>F-</td><td>0.000-0.047j </td><td>0.000+0.288j </td><td>0.000+0.051j </td><td>0.000+0.055j </td><td>0.000+0.057j </td><td>0.000-0.007j </td><td>0.000-0.051j </td><td>0.000+0.089j </td><td>0.000-0.023j </td><td>0.000-0.018j </td><td>0.000+0.011j </td><td>0.000-0.002j </td><td>0.000+0.000j </td><td>0.000+0.000j </td><td>0.000-0.000j </td><td>0.000+0.000j </td><td>0.000+0.000j </td></tr><tr><td>Z</td><td>0.194+0.000j </td><td>0.300+0.000j </td><td>0.010+0.000j </td><td>0.107+0.000j </td><td>0.041+0.000j </td><td>-0.073+0.000j </td><td>-0.046+0.000j </td><td>0.181+0.000j </td><td>-0.140+0.000j </td><td>-0.001+0.000j </td><td>0.036+0.000j </td><td>-0.014+0.000j </td><td>0.002+0.000j </td><td>-0.000+0.000j </td><td>-0.000+0.000j </td></tr></table>"
      ],
      "text/plain": [
       "<EpyG.EpyG.EpyG at 0x10ab68490>"
      ]
     },
     "execution_count": 36,
     "metadata": {},
     "output_type": "execute_result"
    }
   ],
   "source": [
    "ep"
   ]
  },
  {
   "cell_type": "code",
   "execution_count": null,
   "metadata": {
    "collapsed": true
   },
   "outputs": [],
   "source": []
  }
 ],
 "metadata": {
  "kernelspec": {
   "display_name": "Python 2",
   "language": "python",
   "name": "python2"
  },
  "language_info": {
   "codemirror_mode": {
    "name": "ipython",
    "version": 2
   },
   "file_extension": ".py",
   "mimetype": "text/x-python",
   "name": "python",
   "nbconvert_exporter": "python",
   "pygments_lexer": "ipython2",
   "version": "2.7.11"
  }
 },
 "nbformat": 4,
 "nbformat_minor": 0
}
