{
 "cells": [
  {
   "cell_type": "code",
   "execution_count": 55,
   "metadata": {
    "collapsed": false
   },
   "outputs": [
    {
     "name": "stdout",
     "output_type": "stream",
     "text": [
      "The autoreload extension is already loaded. To reload it, use:\n",
      "  %reload_ext autoreload\n",
      "Populating the interactive namespace from numpy and matplotlib\n"
     ]
    },
    {
     "name": "stderr",
     "output_type": "stream",
     "text": [
      "WARNING: pylab import has clobbered these variables: ['e']\n",
      "`%matplotlib` prevents importing * from pylab and numpy\n"
     ]
    }
   ],
   "source": [
    "%load_ext autoreload\n",
    "%autoreload 2\n",
    "%pylab inline\n",
    "from EpyG import EpyG\n",
    "from numpy import *"
   ]
  },
  {
   "cell_type": "code",
   "execution_count": 56,
   "metadata": {
    "collapsed": false
   },
   "outputs": [
    {
     "data": {
      "text/plain": [
       "[<matplotlib.lines.Line2D at 0x10ddcad90>]"
      ]
     },
     "execution_count": 56,
     "metadata": {},
     "output_type": "execute_result"
    },
    {
     "data": {
      "image/png": "[encoded data removed]",
      "text/plain": [
       "<matplotlib.figure.Figure at 0x10d838d90>"
      ]
     },
     "metadata": {},
     "output_type": "display_data"
    }
   ],
   "source": [
    "%autoreload 2\n",
    "graph = EpyG.EpyG()\n",
    "\n",
    "s = EpyG.Shift()\n",
    "e = EpyG.Epsilon(-10/1000.0,-2.5/100.0)\n",
    "\n",
    "v = []\n",
    "ph = 0.0\n",
    "incr = 0.0\n",
    "for i in range(350):\n",
    "    t = EpyG.Transform(deg2rad(20.0),ph)\n",
    "#    t.alpha=deg2rad(20.0)\n",
    "    t*graph\n",
    "    v.append(graph.get_F(0))\n",
    "    s*(e*(graph))\n",
    "\n",
    "\n",
    "\n",
    "plot(abs((array(v))))"
   ]
  },
  {
   "cell_type": "code",
   "execution_count": 57,
   "metadata": {
    "collapsed": false
   },
   "outputs": [
    {
     "data": {
      "application/json": {
       "E1": 1.010050167084168,
       "E2": 1.0253151205244289,
       "__type__": "Epsilon",
       "count": 350,
       "meq": 1,
       "name": "958754b6-a1c2-47ff-a6f0-22988f8e5e57"
      },
      "text/html": [
       "<b>Epsilon</b> <i>name</i>=958754b6-a1c2-47ff-a6f0-22988f8e5e57 <i>count</i>=350 <i>E1</i>=1.01005016708 <i>E2</i>=1.02531512052 <i>meq</i>=1.0"
      ],
      "text/plain": [
       "<EpyG.EpyG.Epsilon at 0x10d966c10>"
      ]
     },
     "execution_count": 57,
     "metadata": {},
     "output_type": "execute_result"
    }
   ],
   "source": [
    "e"
   ]
  },
  {
   "cell_type": "code",
   "execution_count": 58,
   "metadata": {
    "collapsed": false
   },
   "outputs": [
    {
     "data": {
      "text/plain": [
       "[<matplotlib.lines.Line2D at 0x10de83a50>]"
      ]
     },
     "execution_count": 58,
     "metadata": {},
     "output_type": "execute_result"
    },
    {
     "data": {
      "image/png": "[encoded data removed]",
      "text/plain": [
       "<matplotlib.figure.Figure at 0x10dbf4cd0>"
      ]
     },
     "metadata": {},
     "output_type": "display_data"
    }
   ],
   "source": [
    "%autoreload 2\n",
    "graph = EpyG.EpyG()\n",
    "\n",
    "t = EpyG.Transform(deg2rad(90.0),0.0)\n",
    "e = EpyG.Epsilon(10.0/100,10.0/100.0)\n",
    "v = []\n",
    "obs = EpyG.Observer(F_states=(0,1,2))\n",
    "\n",
    "for i in range(20):\n",
    "    t*graph\n",
    "    v.append(graph.get_Z(0))\n",
    "    e*graph\n",
    "    obs*graph\n",
    "    \n",
    "plot(array(v),'o')"
   ]
  },
  {
   "cell_type": "code",
   "execution_count": 59,
   "metadata": {
    "collapsed": false
   },
   "outputs": [
    {
     "data": {
      "text/plain": [
       "OrderedDict([('__type__', 'Observer'),\n",
       "             ('name', 'f720c000-75e1-4f37-8c05-98d74f1dcb89'),\n",
       "             ('count', 20),\n",
       "             ('rx_phase', 0.0),\n",
       "             ('F',\n",
       "              OrderedDict([(0,\n",
       "                            {'imag': [-1.0,\n",
       "                              -0.14274387294606078,\n",
       "                              -0.9657871384159865,\n",
       "                              -0.19402672943559712,\n",
       "                              -0.8791264795137992,\n",
       "                              -0.22938453495980773,\n",
       "                              -0.7338915711825537,\n",
       "                              -0.25217225374492896,\n",
       "                              -0.5518489863623113,\n",
       "                              -0.2629688977944027,\n",
       "                              -0.39088023650160963,\n",
       "                              -0.26451259335026805,\n",
       "                              -0.3001670904959421,\n",
       "                              -0.26144135089798387,\n",
       "                              -0.26735478155099646,\n",
       "                              -0.2571778641601784,\n",
       "                              -0.2565813690636608,\n",
       "                              -0.25296498858367167,\n",
       "                              -0.25126231639381724,\n",
       "                              -0.24907008462511782],\n",
       "                             'real': [0.0,\n",
       "                              0.0,\n",
       "                              0.0,\n",
       "                              0.0,\n",
       "                              0.0,\n",
       "                              0.0,\n",
       "                              0.0,\n",
       "                              0.0,\n",
       "                              0.0,\n",
       "                              0.0,\n",
       "                              0.0,\n",
       "                              0.0,\n",
       "                              0.0,\n",
       "                              0.0,\n",
       "                              0.0,\n",
       "                              0.0,\n",
       "                              0.0,\n",
       "                              0.0,\n",
       "                              0.0,\n",
       "                              0.0]}),\n",
       "                           (1,\n",
       "                            {'imag': [0.0,\n",
       "                              0.0,\n",
       "                              0.0,\n",
       "                              0.0,\n",
       "                              0.0,\n",
       "                              0.0,\n",
       "                              0.0,\n",
       "                              0.0,\n",
       "                              0.0,\n",
       "                              0.0,\n",
       "                              0.0,\n",
       "                              0.0,\n",
       "                              0.0,\n",
       "                              0.0,\n",
       "                              0.0,\n",
       "                              0.0,\n",
       "                              0.0,\n",
       "                              0.0,\n",
       "                              0.0,\n",
       "                              0.0],\n",
       "                             'real': [0.0,\n",
       "                              0.0,\n",
       "                              0.0,\n",
       "                              0.0,\n",
       "                              0.0,\n",
       "                              0.0,\n",
       "                              0.0,\n",
       "                              0.0,\n",
       "                              0.0,\n",
       "                              0.0,\n",
       "                              0.0,\n",
       "                              0.0,\n",
       "                              0.0,\n",
       "                              0.0,\n",
       "                              0.0,\n",
       "                              0.0,\n",
       "                              0.0,\n",
       "                              0.0,\n",
       "                              0.0,\n",
       "                              0.0]}),\n",
       "                           (2,\n",
       "                            {'imag': [0.0,\n",
       "                              0.0,\n",
       "                              0.0,\n",
       "                              0.0,\n",
       "                              0.0,\n",
       "                              0.0,\n",
       "                              0.0,\n",
       "                              0.0,\n",
       "                              0.0,\n",
       "                              0.0,\n",
       "                              0.0,\n",
       "                              0.0,\n",
       "                              0.0,\n",
       "                              0.0,\n",
       "                              0.0,\n",
       "                              0.0,\n",
       "                              0.0,\n",
       "                              0.0,\n",
       "                              0.0,\n",
       "                              0.0],\n",
       "                             'real': [0.0,\n",
       "                              0.0,\n",
       "                              0.0,\n",
       "                              0.0,\n",
       "                              0.0,\n",
       "                              0.0,\n",
       "                              0.0,\n",
       "                              0.0,\n",
       "                              0.0,\n",
       "                              0.0,\n",
       "                              0.0,\n",
       "                              0.0,\n",
       "                              0.0,\n",
       "                              0.0,\n",
       "                              0.0,\n",
       "                              0.0,\n",
       "                              0.0,\n",
       "                              0.0,\n",
       "                              0.0,\n",
       "                              0.0]})])),\n",
       "             ('Z',\n",
       "              OrderedDict([(0,\n",
       "                            {'imag': [0.0,\n",
       "                              0.0,\n",
       "                              0.0,\n",
       "                              0.0,\n",
       "                              0.0,\n",
       "                              0.0,\n",
       "                              0.0,\n",
       "                              0.0,\n",
       "                              0.0,\n",
       "                              0.0,\n",
       "                              0.0,\n",
       "                              0.0,\n",
       "                              0.0,\n",
       "                              0.0,\n",
       "                              0.0,\n",
       "                              0.0,\n",
       "                              0.0,\n",
       "                              0.0,\n",
       "                              0.0,\n",
       "                              0.0],\n",
       "                             'real': [0.09516258196404048,\n",
       "                              0.9159418681824506,\n",
       "                              0.10297146495651603,\n",
       "                              0.7875042268324012,\n",
       "                              0.10465131957718812,\n",
       "                              0.6101138783277229,\n",
       "                              0.10525405733402678,\n",
       "                              0.4069132234763413,\n",
       "                              0.10556790912535152,\n",
       "                              0.23594553267282145,\n",
       "                              0.10572328970155727,\n",
       "                              0.1439027362981068,\n",
       "                              0.1057651784384441,\n",
       "                              0.11405343862117637,\n",
       "                              0.10574398718570237,\n",
       "                              0.10732147603016082,\n",
       "                              0.10570057957293288,\n",
       "                              0.10597556804588576,\n",
       "                              0.10565381298598467,\n",
       "                              0.10568653728986567]})]))])"
      ]
     },
     "execution_count": 59,
     "metadata": {},
     "output_type": "execute_result"
    }
   ],
   "source": [
    "obs._repr_json_()"
   ]
  },
  {
   "cell_type": "code",
   "execution_count": 60,
   "metadata": {
    "collapsed": false
   },
   "outputs": [
    {
     "data": {
      "application/json": {
       "F+": {
        "imag": [],
        "real": []
       },
       "F-": {
        "imag": [],
        "real": []
       },
       "Z": {
        "imag": [],
        "real": []
       },
       "k": [],
       "size": 256,
       "type": "EpyG"
      },
      "text/html": [
       "<table><tr><td><b>k</b></td><td><b>0</b></td></tr><tr><td><b>F+</b></td><td>0.000-0.035j </td></tr><tr><td><b>F-</b></td><td>0.000-0.245j </td></tr><tr><td><b>Z</b></td><td>-0.109+0.000j </td></tr></table>"
      ],
      "text/plain": [
       "<EpyG.EpyG.EpyG at 0x10dde4690>"
      ]
     },
     "execution_count": 60,
     "metadata": {},
     "output_type": "execute_result"
    }
   ],
   "source": [
    "t*e*graph"
   ]
  },
  {
   "cell_type": "code",
   "execution_count": 61,
   "metadata": {
    "collapsed": false
   },
   "outputs": [
    {
     "data": {
      "application/json": {
       "__type__": "Transform",
       "alpha": 1.5707963267948966,
       "count": 21,
       "name": "0b7a8303-11ab-457c-a131-54fbcfb56360",
       "phi": 0
      },
      "text/html": [
       "<b>Transform</b> <i>name</i>=0b7a8303-11ab-457c-a131-54fbcfb56360 <i>count</i>=21 <i>alpha</i>=1.57079632679 <i>phi</i>=0.0"
      ],
      "text/plain": [
       "<EpyG.EpyG.Transform at 0x10dde4610>"
      ]
     },
     "execution_count": 61,
     "metadata": {},
     "output_type": "execute_result"
    }
   ],
   "source": [
    "t"
   ]
  },
  {
   "cell_type": "code",
   "execution_count": 62,
   "metadata": {
    "collapsed": false
   },
   "outputs": [],
   "source": [
    "graph = EpyG.EpyG()\n",
    "\n",
    "s = EpyG.Shift()\n",
    "e = EpyG.Epsilon(-10/1000.0,-2.5/100.0)\n",
    "\n",
    "v = []\n",
    "ph = deg2rad(90.0)\n",
    "incr = 0.0\n",
    "for i in range(100):\n",
    "    t = EpyG.Transform(deg2rad(20.0),ph)\n",
    "#    t.alpha=deg2rad(20.0)\n",
    "    t*graph\n",
    "    v.append(graph.get_F(0))\n",
    "    s*(e*(graph))\n",
    "\n"
   ]
  },
  {
   "cell_type": "code",
   "execution_count": 63,
   "metadata": {
    "collapsed": false
   },
   "outputs": [],
   "source": [
    "c = EpyG.CompositeOperator(t,s,e)"
   ]
  },
  {
   "cell_type": "code",
   "execution_count": 64,
   "metadata": {
    "collapsed": false
   },
   "outputs": [
    {
     "data": {
      "application/json": {
       "F+": {
        "imag": [
         -2.504344486774228e-19,
         -8.098473826711982e-20,
         -2.475025938409537e-19,
         -2.8816259432643102e-19,
         -2.432842946251438e-19,
         -2.8003233367441873e-19,
         -2.3802951882562716e-19,
         -2.7055459900792804e-19,
         -2.3170321057945455e-19,
         -2.5969087960224055e-19,
         -2.2427231825027683e-19,
         -2.474054563125158e-19,
         -2.1570600278598552e-19,
         -2.336656540073601e-19,
         -2.0597584680021122e-19,
         -2.1844209402540345e-19,
         -1.9505606352872804e-19,
         -2.0170894564614373e-19,
         -1.8292370477300767e-19,
         -1.8344417552334066e-19,
         -1.6955886690744387e-19,
         -1.6362979398938794e-19,
         -1.5494489399452492e-19,
         -1.4225209710265747e-19,
         -1.3906857702384274e-19,
         -1.193019032772442e-19,
         -1.2192034826672207e-19,
         -9.477478330617307e-20,
         -1.0349446971870649e-19,
         -6.86712825653035e-20,
         -8.378921458755519e-20,
         -4.0997134166258605e-20,
         -6.280704077502937e-20,
         -1.176346181295171e-20,
         -4.0554755296858743e-20,
         1.901302889196024e-20,
         -1.7043668587087808e-20,
         5.130987194692743e-20,
         7.710262359337607e-21,
         8.509867651049194e-20,
         3.3686303038247886e-20,
         1.2034497776279316e-19,
         6.085882369505518e-20,
         1.5700810429726368e-19,
         8.919719577791654e-20,
         1.9504106324824245e-19,
         1.1866570354093645e-19,
         2.343904443319382e-19,
         1.4922347171581208e-19,
         2.749963439436294e-19,
         1.808244101275159e-19,
         3.1679231041325767e-19,
         2.1341717608164074e-19,
         3.597053114747932e-19,
         2.4694515529823125e-19,
         4.0365572495214237e-19,
         2.8134646210983776e-19,
         4.485573536062071e-19,
         3.1655395958066087e-19,
         4.943174650242808e-19,
         3.5249530013967034e-19,
         5.408368573647113e-19,
         3.890929872542223e-19,
         5.88009951697072e-19,
         4.2626445860270885e-19,
         6.35724911601492e-19,
         4.639221911361035e-19,
         6.838637906109019e-19,
         5.0197382834983855e-19,
         7.323027079972658e-19,
         5.403223300202982e-19,
         7.809120533182483e-19,
         5.788661445954846e-19,
         8.2955672005478835e-19,
         6.174994043682982e-19,
         8.78096368583705e-19,
         6.561121435046491e-19,
         9.263857186434837e-19,
         6.945905389486852e-19,
         9.742748713669664e-19,
         7.328171741852682e-19,
         1.0216096608726864e-18,
         7.706713258070709e-19,
         1.068232035328484e-18,
         8.080292728120163e-19,
         1.1139804673280382e-18,
         8.447646285482787e-19,
         1.1586903933546833e-18,
         8.807486952307776e-19,
         1.202194682049248e-18,
         9.158508409829532e-19,
         1.2443241303641661e-18,
         9.499389262378192e-19,
         1.2849108980033853e-18,
         9.826112012606808e-19,
         1.3207073567455977e-18,
         1.2941852815614775e-18,
         3.784392318252808e-18,
         7.76994804031295e-18,
         1.245556158543696e-17,
         1.4257179971616e-17
        ],
        "real": [
         0.004089904923636505,
         0.0013225811445962332,
         0.004042024100553306,
         0.004706052300582703,
         0.003973134046396514,
         0.004573275067870824,
         0.0038873170450672264,
         0.004418491914506288,
         0.0037840005908768943,
         0.004241073912626053,
         0.0036626449096412712,
         0.004040437724326233,
         0.003522746361418945,
         0.003816049724215151,
         0.00336384085507134,
         0.0035674301223420943,
         0.0031855072607797335,
         0.003294157071027868,
         0.0029873708060212255,
         0.002995870738421275,
         0.0027691064399220605,
         0.002672277330954761,
         0.002530442150380062,
         0.002323153046277507,
         0.002271162217884656,
         0.0019483479377124628,
         0.00199111038956877,
         0.0015477896708203573,
         0.001690192956708218,
         0.0011214871522649055,
         0.001368381718645602,
         0.0006695340108642567,
         0.0010257168159628924,
         0.0001921119104895137,
         0.0006623094156632554,
         -0.0003105063256638037,
         0.00027834423115225893,
         -0.0008379537999470506,
         -0.00012591814006628795,
         -0.0013897668547329643,
         -0.0005501390778419088,
         -0.0019653826367991203,
         -0.0009939000165178754,
         -0.0025641369316700448,
         -0.0014567007538829901,
         -0.0031852622876087436,
         -0.0019379580075423665,
         -0.0038278864484866735,
         -0.0024370042337057145,
         -0.004491031114197022,
         -0.002953086722692836,
         -0.005173611046610644,
         -0.003485366984672323,
         -0.0058744335383105134,
         -0.004032920438287424,
         -0.006592198260481009,
         -0.004594736413890484,
         -0.007325497505378828,
         -0.005169718482113516,
         -0.008072816837776277,
         -0.005756685117457405,
         -0.008832536168653059,
         -0.006354370705498515,
         -0.009602931263225693,
         -0.006961426901201085,
         -0.010382175694152913,
         -0.007576424344702563,
         -0.011168343249450085,
         -0.00819785473982103,
         -0.011959410803296457,
         -0.008824133299437712,
         -0.01275326165653554,
         -0.009453601560850266,
         -0.013547689352266391,
         -0.01008453057319427,
         -0.01434040197051211,
         -0.010715124458112506,
         -0.015129026904548605,
         -0.011343524344035943,
         -0.01591111612009753,
         -0.011967812673751887,
         -0.01668415189724855,
         -0.012586017884399706,
         -0.017445553053700488,
         -0.013196119458681429,
         -0.018192681646718587,
         -0.013796053345935123,
         -0.018922850150123387,
         -0.01438371775182835,
         -0.019633329101684825,
         -0.01495697929591789,
         -0.02032135520593385,
         -0.015513679975307244,
         -0.020984187422822452,
         -0.016047258718919013,
         -0.021568787958538296,
         -0.021135649600562995,
         -0.061803816755780415,
         -0.126892881208242,
         -0.2034147575302364,
         -0.23283741861804372
        ]
       },
       "F-": {
        "imag": [
         2.504344486774228e-19,
         9.994278291385619e-20,
         5.1311804570432525e-20,
         1.1463247281944292e-19,
         6.765372373015631e-20,
         1.3666939620402217e-19,
         8.457183130732686e-20,
         1.5936462542380274e-19,
         1.0203934602322728e-19,
         1.8267927745797868e-19,
         1.2002662396067204e-19,
         2.0657093823233212e-19,
         1.3850115105453534e-19,
         2.309936703774701e-19,
         1.5742754645905114e-19,
         2.5589803462613513e-19,
         1.7676757725108293e-19,
         2.8123112535732386e-19,
         1.9648018489599253e-19,
         3.0693662075657353e-19,
         2.1652152386616356e-19,
         3.329548480192363e-19,
         2.3684501276172965e-19,
         3.5922286397692493e-19,
         2.574013982386104e-19,
         3.856745514766004e-19,
         2.781388320007698e-19,
         4.122407317870915e-19,
         2.9900296106172166e-19,
         4.388492932493236e-19,
         3.1993703142498114e-19,
         4.654253363242967e-19,
         3.408820052745731e-19,
         4.918913351271562e-19,
         3.6177669170512305e-19,
         5.18167315466709e-19,
         3.825578909568034e-19,
         5.441710493377187e-19,
         4.0316055205378636e-19,
         5.698182657386262e-19,
         4.23517943676276e-19,
         5.950228776101797e-19,
         4.435618380260339e-19,
         6.196972246113324e-19,
         4.632227073740311e-19,
         6.437523313679253e-19,
         4.824299329069119e-19,
         6.670981807475708e-19,
         5.011120254168292e-19,
         6.896440016312464e-19,
         5.191968573073898e-19,
         7.112985705687724e-19,
         5.366119053174806e-19,
         7.319705266220754e-19,
         5.532845032950904e-19,
         7.515686986173859e-19,
         5.691421042854565e-19,
         7.700024439457249e-19,
         5.841125511324235e-19,
         7.871819979706909e-19,
         5.981243547292719e-19,
         8.030188330240773e-19,
         6.111069789959469e-19,
         8.174260258936991e-19,
         6.229911316039405e-19,
         8.303186326343892e-19,
         6.337090594185228e-19,
         8.41614069462822e-19,
         6.4319484758078e-19,
         8.512324984300172e-19,
         6.513847211093574e-19,
         8.5909721650237165e-19,
         6.582173478640598e-19,
         8.651350466231527e-19,
         6.636341416806419e-19,
         8.692767292718193e-19,
         6.675795644582678e-19,
         8.714573129884429e-19,
         6.700014259581618e-19,
         8.71616542285083e-19,
         6.708511800537088e-19,
         8.69699241325229e-19,
         6.700842161584626e-19,
         8.656556917163731e-19,
         6.676601445487356e-19,
         8.594420027293498e-19,
         6.635430742911985e-19,
         8.510204722310865e-19,
         6.577018824825078e-19,
         8.403599365931099e-19,
         6.501104736959023e-19,
         8.274360878129274e-19,
         6.407489983098453e-19,
         8.123085180044114e-19,
         6.223173865443287e-19,
         7.291157069491637e-19,
         4.35923972927763e-19,
         4.793964747223369e-19,
         2.415253202896826e-19,
         3.872265869493635e-19,
         4.432728927552567e-19
        ],
        "real": [
         0.004089904923636505,
         0.0016321895093906488,
         0.0008379853620841132,
         0.001872090351263003,
         0.00110486915537213,
         0.0022319806216645954,
         0.0013811628196180104,
         0.0026026218422284704,
         0.001666428983348843,
         0.0029833790050350583,
         0.0019601835246577043,
         0.0033735594356863723,
         0.0022618954485646775,
         0.0037724129200075985,
         0.002570986942009038,
         0.0041791320534917045,
         0.0028868336139718865,
         0.004592852821778968,
         0.00320876492769653,
         0.005012655419836576,
         0.003536064831376916,
         0.005437565316808953,
         0.0038679725930224063,
         0.005866554572747533,
         0.004203683844481901,
         0.006298543412600653,
         0.004542351838822761,
         0.006732402061951431,
         0.00488308892441312,
         0.007166952848035352,
         0.005224968238152149,
         0.00760097256855356,
         0.005567025619336255,
         0.008033195129724443,
         0.005908261744643532,
         0.008462314453889532,
         0.006247644483669171,
         0.008886987655813795,
         0.0065841114733567645,
         0.00930583848560022,
         0.006916572908550377,
         0.009717461034878942,
         0.007243914544746429,
         0.010120423701638565,
         0.007565000907960477,
         0.010513273407747152,
         0.007878678705448765,
         0.010894540061869788,
         0.008183780429846762,
         0.011262741259135367,
         0.008479128148113805,
         0.011616387207544375,
         0.008763537465513987,
         0.011953985869749606,
         0.00903582165372593,
         0.012274048307490114,
         0.009294795931067067,
         0.012575094214623064,
         0.009539281881749167,
         0.012855657623385927,
         0.009768112000059276,
         0.013114292767239865,
         0.009980134344390944,
         0.013349580082401304,
         0.01017421728514199,
         0.01356013232897013,
         0.0103492543296522,
         0.013744600811414164,
         0.01050416900658373,
         0.013901681677079145,
         0.010637919791451322,
         0.014030122270364155,
         0.010749505054393427,
         0.01412872751924057,
         0.010837968010738936,
         0.014196366329900924,
         0.010902401654469892,
         0.014231977964506775,
         0.010941953654304953,
         0.014234578376262243,
         0.010955831191830682,
         0.01420326647537476,
         0.010943305720882155,
         0.014137230298876015,
         0.010903717627214425,
         0.014035753056762624,
         0.010836480767404667,
         0.013898219026475249,
         0.010741086865869007,
         0.013724119267338184,
         0.01061710975194701,
         0.01351305679954452,
         0.010464225256718272,
         0.013266004836169475,
         0.010163214193310446,
         0.011907363126361065,
         0.007119178741679169,
         0.007829138573768574,
         0.003944407815507983,
         0.00632389007539098,
         0.00723919571036941
        ]
       },
       "Z": {
        "imag": [
         0,
         3.009265616211178e-36,
         -3.310192096574761e-35,
         1.805559324567297e-35,
         -5.416677994410296e-35,
         2.407412432381416e-35,
         -8.425943513882364e-35,
         -4.2129717320942606e-35,
         -2.106485873698641e-35,
         -6.4787647104766116e-43,
         -2.195662931112932e-43,
         -4.212971798340605e-35,
         -6.319457651424908e-35,
         -1.2037061885399768e-35,
         2.552835736256322e-44,
         9.629649721879015e-35,
         -4.21297174244159e-35,
         -1.1808368078625323e-43,
         -3.6111186544692285e-35,
         -4.814824917568704e-35,
         1.805559310542685e-35,
         -3.0092655836371696e-35,
         4.212971745354448e-35,
         -1.233798866277773e-34,
         6.018531423948222e-36,
         2.1064857470498853e-35,
         -1.2037062255980256e-35,
         -5.41667799286907e-35,
         3.0092655069679426e-35,
         -3.6982679385525237e-44,
         -5.717604532893566e-35,
         8.275480265771369e-35,
         -9.328723207347735e-35,
         6.770847485921039e-35,
         -1.2187525463547462e-34,
         6.770848187328598e-36,
         -9.930576336371715e-35,
         1.7303277581958665e-35,
         -1.2413220407815583e-34,
         -6.319457639265392e-35,
         -9.554418152635812e-35,
         6.620384158476439e-35,
         -8.726870086314994e-35,
         5.717604496382662e-35,
         -5.567141265977787e-35,
         -2.4074124352436566e-35,
         -1.5648180818147257e-34,
         2.515066944705483e-43,
         -1.3541694977901206e-34,
         5.416678023750741e-35,
         -1.0231502863543583e-34,
         1.0231502835786573e-34,
         -7.824090428589581e-35,
         -3.6111186669568337e-35,
         -4.814824883001597e-35,
         -8.425943511032692e-35,
         -7.824090411170277e-35,
         2.4074124237335408e-35,
         -6.018531172948052e-36,
         7.222237283857866e-35,
         -1.3240768376543076e-34,
         -8.425943485250837e-35,
         -2.0463005668843894e-34,
         8.425943492533923e-35,
         -8.425943511137893e-35,
         -3.6111186429149757e-35,
         -2.407412435615293e-35,
         9.629649722660635e-35,
         -9.629649721935462e-35,
         -4.8148248597932337e-35,
         -7.235153811131436e-45,
         1.685188701368329e-34,
         -1.4444474583346092e-34,
         1.6851887013418685e-34,
         -2.4074124304964447e-34,
         9.629649721932818e-35,
         -1.9259299443872384e-34,
         4.814824860912768e-35,
         4.3752865500970706e-46,
         1.4444474580523355e-34,
         -1.4444474582025075e-34,
         1.925929943851141e-34,
         -1.9259299444419463e-34,
         1.2037062134107075e-34,
         4.81482486378298e-35,
         1.6851886993717672e-34,
         -1.6851887010455158e-34,
         2.166671180608845e-34,
         2.1187051129916126e-43,
         2.888894916564003e-34,
         -2.1666711843474207e-34,
         2.4074122811133312e-35,
         -3.4907480190498873e-34,
         1.6851886800927125e-34,
         -1.9259299859134753e-34,
         3.1296281391999448e-34,
         2.527618511999638e-34,
         7.219657857545621e-34,
         9.6214720580736e-34,
         1.9251895878885007e-33,
         3.851859888774472e-33
        ],
        "real": [
         -0.009099814357850185,
         0.0005377242851935171,
         0.0008880890942421985,
         0.0011971240628964983,
         0.0009241210081478348,
         0.0012384552559349335,
         0.0009587849260656333,
         0.001277738211862924,
         0.0009918970653808525,
         0.001314742913174518,
         0.0010232710922418024,
         0.001349237144616124,
         0.001052718718489149,
         0.0013809872664876952,
         0.0010800503330627997,
         0.0014097590285482478,
         0.0011050756667279975,
         0.0014353184230367138,
         0.0011276044887501455,
         0.0014574325750773079,
         0.0011474473339330297,
         0.0014758706684937669,
         0.0011644162582187996,
         0.001490404904809857,
         0.001178325620831755,
         0.0015008114929661003,
         0.0011889928907329347,
         0.001506871667035817,
         0.001196239474940381,
         0.0015083727289788439,
         0.0011998915660620265,
         0.0015051091132301565,
         0.0011997810061862347,
         0.0014968834696844804,
         0.0011957461640804458,
         0.0014835077614083977,
         0.001187632822462735,
         0.0014648043731898804,
         0.0011752950719359147,
         0.0014406072268231941,
         0.0011585962080104936,
         0.0014107628988260252,
         0.001137409627492643,
         0.001375131736097062,
         0.0011116197203777187,
         0.0013335889648473265,
         0.001081122753269744,
         0.0012860257879786345,
         0.0010458277402437643,
         0.0012323504659387788,
         0.0010056572969817108,
         0.001172489375956499,
         0.0009605484739440913,
         0.0011063880444507795,
         0.0009104535642897078,
         0.0010340121473194777,
         0.0008553408822238724,
         0.0009553484727420255,
         0.0007951955074419025,
         0.0008704058410806935,
         0.0007300199913388198,
         0.0007792159764345106,
         0.0006598350206769603,
         0.0006818343243896205,
         0.0005846800344399529,
         0.0005783408105193207,
         0.0005046137896521706,
         0.0004688405342155212,
         0.0004197148720059709,
         0.00035346439248046783,
         0.0003300821472119314,
         0.00023236962837197453,
         0.00023583514906758423,
         0.000105740298875638,
         0.00013711440032419006,
         -2.621234292796138e-05,
         3.4081662515457264e-05,
         -0.00016324955642645948,
         -7.307988900783508e-05,
         -0.00030510491767883207,
         -0.00018416556852224718,
         -0.00045148422404542164,
         -0.00029894916548372727,
         -0.0006020655039068442,
         -0.0004171830157808071,
         -0.0007564991360102395,
         -0.0005385981622755687,
         -0.0009144080828646936,
         -0.0006629046082491033,
         -0.0010753882425084869,
         -0.000789791666898645,
         -0.0012390089806010363,
         -0.0009189256076949298,
         -0.0014045943582828293,
         -0.0010708085209538878,
         -0.0017582305427610064,
         -0.0025506242116543785,
         -0.00982135764485471,
         -0.022372243475047834,
         -0.035866036420338414,
         -0.04105551902087257
        ]
       },
       "k": [
        0,
        1,
        2,
        3,
        4,
        5,
        6,
        7,
        8,
        9,
        10,
        11,
        12,
        13,
        14,
        15,
        16,
        17,
        18,
        19,
        20,
        21,
        22,
        23,
        24,
        25,
        26,
        27,
        28,
        29,
        30,
        31,
        32,
        33,
        34,
        35,
        36,
        37,
        38,
        39,
        40,
        41,
        42,
        43,
        44,
        45,
        46,
        47,
        48,
        49,
        50,
        51,
        52,
        53,
        54,
        55,
        56,
        57,
        58,
        59,
        60,
        61,
        62,
        63,
        64,
        65,
        66,
        67,
        68,
        69,
        70,
        71,
        72,
        73,
        74,
        75,
        76,
        77,
        78,
        79,
        80,
        81,
        82,
        83,
        84,
        85,
        86,
        87,
        88,
        89,
        90,
        91,
        92,
        93,
        94,
        95,
        96,
        97,
        98,
        99,
        100
       ],
       "size": 256,
       "type": "EpyG"
      },
      "text/html": [
       "<table><tr><td><b>k</b></td><td><b>0</b></td><td><b>1</b></td><td><b>2</b></td><td><b>3</b></td><td><b>4</b></td><td><b>5</b></td><td><b>6</b></td><td><b>7</b></td><td><b>8</b></td><td><b>9</b></td><td><b>10</b></td><td><b>11</b></td><td><b>12</b></td><td><b>13</b></td><td><b>14</b></td><td><b>15</b></td><td><b>16</b></td><td><b>17</b></td><td><b>18</b></td><td><b>19</b></td><td><b>20</b></td><td><b>21</b></td><td><b>22</b></td><td><b>23</b></td><td><b>24</b></td><td><b>25</b></td><td><b>26</b></td><td><b>27</b></td><td><b>28</b></td><td><b>29</b></td><td><b>30</b></td><td><b>31</b></td><td><b>32</b></td><td><b>33</b></td><td><b>34</b></td><td><b>35</b></td><td><b>36</b></td><td><b>37</b></td><td><b>38</b></td><td><b>39</b></td><td><b>40</b></td><td><b>41</b></td><td><b>42</b></td><td><b>43</b></td><td><b>44</b></td><td><b>45</b></td><td><b>46</b></td><td><b>47</b></td><td><b>48</b></td><td><b>49</b></td><td><b>50</b></td><td><b>51</b></td><td><b>52</b></td><td><b>53</b></td><td><b>54</b></td><td><b>55</b></td><td><b>56</b></td><td><b>57</b></td><td><b>58</b></td><td><b>59</b></td><td><b>60</b></td><td><b>61</b></td><td><b>62</b></td><td><b>63</b></td><td><b>64</b></td><td><b>65</b></td><td><b>66</b></td><td><b>67</b></td><td><b>68</b></td><td><b>69</b></td><td><b>70</b></td><td><b>71</b></td><td><b>72</b></td><td><b>73</b></td><td><b>74</b></td><td><b>75</b></td><td><b>76</b></td><td><b>77</b></td><td><b>78</b></td><td><b>79</b></td><td><b>80</b></td><td><b>81</b></td><td><b>82</b></td><td><b>83</b></td><td><b>84</b></td><td><b>85</b></td><td><b>86</b></td><td><b>87</b></td><td><b>88</b></td><td><b>89</b></td><td><b>90</b></td><td><b>91</b></td><td><b>92</b></td><td><b>93</b></td><td><b>94</b></td><td><b>95</b></td><td><b>96</b></td><td><b>97</b></td><td><b>98</b></td><td><b>99</b></td><td><b>100</b></td><td><b>101</b></td></tr><tr><td><b>F+</b></td><td>0.004-0.000j </td><td>0.001-0.000j </td><td>0.004-0.000j </td><td>0.005-0.000j </td><td>0.004-0.000j </td><td>0.005-0.000j </td><td>0.004-0.000j </td><td>0.004-0.000j </td><td>0.004-0.000j </td><td>0.004-0.000j </td><td>0.004-0.000j </td><td>0.004-0.000j </td><td>0.004-0.000j </td><td>0.004-0.000j </td><td>0.003-0.000j </td><td>0.004-0.000j </td><td>0.003-0.000j </td><td>0.003-0.000j </td><td>0.003-0.000j </td><td>0.003-0.000j </td><td>0.003-0.000j </td><td>0.003-0.000j </td><td>0.003-0.000j </td><td>0.002-0.000j </td><td>0.002-0.000j </td><td>0.002-0.000j </td><td>0.002-0.000j </td><td>0.002-0.000j </td><td>0.002-0.000j </td><td>0.001-0.000j </td><td>0.001-0.000j </td><td>0.001-0.000j </td><td>0.001-0.000j </td><td>0.000-0.000j </td><td>0.001-0.000j </td><td>-0.000+0.000j </td><td>0.000-0.000j </td><td>-0.001+0.000j </td><td>-0.000+0.000j </td><td>-0.001+0.000j </td><td>-0.001+0.000j </td><td>-0.002+0.000j </td><td>-0.001+0.000j </td><td>-0.003+0.000j </td><td>-0.001+0.000j </td><td>-0.003+0.000j </td><td>-0.002+0.000j </td><td>-0.004+0.000j </td><td>-0.002+0.000j </td><td>-0.004+0.000j </td><td>-0.003+0.000j </td><td>-0.005+0.000j </td><td>-0.003+0.000j </td><td>-0.006+0.000j </td><td>-0.004+0.000j </td><td>-0.007+0.000j </td><td>-0.005+0.000j </td><td>-0.007+0.000j </td><td>-0.005+0.000j </td><td>-0.008+0.000j </td><td>-0.006+0.000j </td><td>-0.009+0.000j </td><td>-0.006+0.000j </td><td>-0.010+0.000j </td><td>-0.007+0.000j </td><td>-0.010+0.000j </td><td>-0.008+0.000j </td><td>-0.011+0.000j </td><td>-0.008+0.000j </td><td>-0.012+0.000j </td><td>-0.009+0.000j </td><td>-0.013+0.000j </td><td>-0.009+0.000j </td><td>-0.014+0.000j </td><td>-0.010+0.000j </td><td>-0.014+0.000j </td><td>-0.011+0.000j </td><td>-0.015+0.000j </td><td>-0.011+0.000j </td><td>-0.016+0.000j </td><td>-0.012+0.000j </td><td>-0.017+0.000j </td><td>-0.013+0.000j </td><td>-0.017+0.000j </td><td>-0.013+0.000j </td><td>-0.018+0.000j </td><td>-0.014+0.000j </td><td>-0.019+0.000j </td><td>-0.014+0.000j </td><td>-0.020+0.000j </td><td>-0.015+0.000j </td><td>-0.020+0.000j </td><td>-0.016+0.000j </td><td>-0.021+0.000j </td><td>-0.016+0.000j </td><td>-0.022+0.000j </td><td>-0.021+0.000j </td><td>-0.062+0.000j </td><td>-0.127+0.000j </td><td>-0.203+0.000j </td><td>-0.233+0.000j </td><td>-0.200+0.000j </td></tr><tr><td><b>F-</b></td><td>0.004+0.000j </td><td>0.002+0.000j </td><td>0.001+0.000j </td><td>0.002+0.000j </td><td>0.001+0.000j </td><td>0.002+0.000j </td><td>0.001+0.000j </td><td>0.003+0.000j </td><td>0.002+0.000j </td><td>0.003+0.000j </td><td>0.002+0.000j </td><td>0.003+0.000j </td><td>0.002+0.000j </td><td>0.004+0.000j </td><td>0.003+0.000j </td><td>0.004+0.000j </td><td>0.003+0.000j </td><td>0.005+0.000j </td><td>0.003+0.000j </td><td>0.005+0.000j </td><td>0.004+0.000j </td><td>0.005+0.000j </td><td>0.004+0.000j </td><td>0.006+0.000j </td><td>0.004+0.000j </td><td>0.006+0.000j </td><td>0.005+0.000j </td><td>0.007+0.000j </td><td>0.005+0.000j </td><td>0.007+0.000j </td><td>0.005+0.000j </td><td>0.008+0.000j </td><td>0.006+0.000j </td><td>0.008+0.000j </td><td>0.006+0.000j </td><td>0.008+0.000j </td><td>0.006+0.000j </td><td>0.009+0.000j </td><td>0.007+0.000j </td><td>0.009+0.000j </td><td>0.007+0.000j </td><td>0.010+0.000j </td><td>0.007+0.000j </td><td>0.010+0.000j </td><td>0.008+0.000j </td><td>0.011+0.000j </td><td>0.008+0.000j </td><td>0.011+0.000j </td><td>0.008+0.000j </td><td>0.011+0.000j </td><td>0.008+0.000j </td><td>0.012+0.000j </td><td>0.009+0.000j </td><td>0.012+0.000j </td><td>0.009+0.000j </td><td>0.012+0.000j </td><td>0.009+0.000j </td><td>0.013+0.000j </td><td>0.010+0.000j </td><td>0.013+0.000j </td><td>0.010+0.000j </td><td>0.013+0.000j </td><td>0.010+0.000j </td><td>0.013+0.000j </td><td>0.010+0.000j </td><td>0.014+0.000j </td><td>0.010+0.000j </td><td>0.014+0.000j </td><td>0.011+0.000j </td><td>0.014+0.000j </td><td>0.011+0.000j </td><td>0.014+0.000j </td><td>0.011+0.000j </td><td>0.014+0.000j </td><td>0.011+0.000j </td><td>0.014+0.000j </td><td>0.011+0.000j </td><td>0.014+0.000j </td><td>0.011+0.000j </td><td>0.014+0.000j </td><td>0.011+0.000j </td><td>0.014+0.000j </td><td>0.011+0.000j </td><td>0.014+0.000j </td><td>0.011+0.000j </td><td>0.014+0.000j </td><td>0.011+0.000j </td><td>0.014+0.000j </td><td>0.011+0.000j </td><td>0.014+0.000j </td><td>0.011+0.000j </td><td>0.014+0.000j </td><td>0.010+0.000j </td><td>0.013+0.000j </td><td>0.010+0.000j </td><td>0.012+0.000j </td><td>0.007+0.000j </td><td>0.008+0.000j </td><td>0.004+0.000j </td><td>0.006+0.000j </td><td>0.007+0.000j </td><td>0.006+0.000j </td></tr><tr><td><b>Z</b></td><td>-0.009+0.000j </td><td>0.001+0.000j </td><td>0.001-0.000j </td><td>0.001+0.000j </td><td>0.001-0.000j </td><td>0.001+0.000j </td><td>0.001-0.000j </td><td>0.001-0.000j </td><td>0.001-0.000j </td><td>0.001-0.000j </td><td>0.001-0.000j </td><td>0.001-0.000j </td><td>0.001-0.000j </td><td>0.001-0.000j </td><td>0.001+0.000j </td><td>0.001+0.000j </td><td>0.001-0.000j </td><td>0.001-0.000j </td><td>0.001-0.000j </td><td>0.001-0.000j </td><td>0.001+0.000j </td><td>0.001-0.000j </td><td>0.001+0.000j </td><td>0.001-0.000j </td><td>0.001+0.000j </td><td>0.002+0.000j </td><td>0.001-0.000j </td><td>0.002-0.000j </td><td>0.001+0.000j </td><td>0.002-0.000j </td><td>0.001-0.000j </td><td>0.002+0.000j </td><td>0.001-0.000j </td><td>0.001+0.000j </td><td>0.001-0.000j </td><td>0.001+0.000j </td><td>0.001-0.000j </td><td>0.001+0.000j </td><td>0.001-0.000j </td><td>0.001-0.000j </td><td>0.001-0.000j </td><td>0.001+0.000j </td><td>0.001-0.000j </td><td>0.001+0.000j </td><td>0.001-0.000j </td><td>0.001-0.000j </td><td>0.001-0.000j </td><td>0.001+0.000j </td><td>0.001-0.000j </td><td>0.001+0.000j </td><td>0.001-0.000j </td><td>0.001+0.000j </td><td>0.001-0.000j </td><td>0.001-0.000j </td><td>0.001-0.000j </td><td>0.001-0.000j </td><td>0.001-0.000j </td><td>0.001+0.000j </td><td>0.001-0.000j </td><td>0.001+0.000j </td><td>0.001-0.000j </td><td>0.001-0.000j </td><td>0.001-0.000j </td><td>0.001+0.000j </td><td>0.001-0.000j </td><td>0.001-0.000j </td><td>0.001-0.000j </td><td>0.000+0.000j </td><td>0.000-0.000j </td><td>0.000-0.000j </td><td>0.000-0.000j </td><td>0.000+0.000j </td><td>0.000-0.000j </td><td>0.000+0.000j </td><td>0.000-0.000j </td><td>-0.000+0.000j </td><td>0.000-0.000j </td><td>-0.000+0.000j </td><td>-0.000+0.000j </td><td>-0.000+0.000j </td><td>-0.000-0.000j </td><td>-0.000+0.000j </td><td>-0.000-0.000j </td><td>-0.001+0.000j </td><td>-0.000+0.000j </td><td>-0.001+0.000j </td><td>-0.001-0.000j </td><td>-0.001+0.000j </td><td>-0.001+0.000j </td><td>-0.001+0.000j </td><td>-0.001-0.000j </td><td>-0.001+0.000j </td><td>-0.001-0.000j </td><td>-0.001+0.000j </td><td>-0.001-0.000j </td><td>-0.002+0.000j </td><td>-0.003+0.000j </td><td>-0.010+0.000j </td><td>-0.022+0.000j </td><td>-0.036+0.000j </td><td>-0.041+0.000j </td><td>-0.035+0.000j </td></tr></table>"
      ],
      "text/plain": [
       "<EpyG.EpyG.EpyG at 0x10dcec790>"
      ]
     },
     "execution_count": 64,
     "metadata": {},
     "output_type": "execute_result"
    }
   ],
   "source": [
    "c*graph"
   ]
  },
  {
   "cell_type": "code",
   "execution_count": 65,
   "metadata": {
    "collapsed": false
   },
   "outputs": [
    {
     "name": "stdout",
     "output_type": "stream",
     "text": [
      "OrderedDict([('__type__', 'CompositeOperator'), ('name', '1cf1ac9e-e12f-4f4a-aa74-79a314752472'), ('count', 1), ('operators', OrderedDict([(0, OrderedDict([('__type__', 'Transform'), ('name', '5f6446d6-454a-4e67-9150-e46f5dc3b4e8'), ('count', 2), ('alpha', 0.3490658503988659), ('phi', 1.5707963267948966)])), (1, OrderedDict([('__type__', 'Shift'), ('name', 'cf1b1e03-780b-420a-84f2-ff24cef872b1'), ('count', 101), ('shifts', 1)])), (2, OrderedDict([('__type__', 'Epsilon'), ('name', '29d9405a-1c5c-4c3b-b592-a72675758155'), ('count', 101), ('E1', 1.0100501670841679), ('E2', 1.0253151205244289), ('meq', 1.0)]))]))])\n"
     ]
    }
   ],
   "source": [
    "print c._repr_json_()"
   ]
  },
  {
   "cell_type": "code",
   "execution_count": 66,
   "metadata": {
    "collapsed": false
   },
   "outputs": [
    {
     "name": "stdout",
     "output_type": "stream",
     "text": [
      "{\"__type__\": \"CompositeOperator\", \"name\": \"1cf1ac9e-e12f-4f4a-aa74-79a314752472\", \"count\": 1, \"operators\": {\"0\": {\"__type__\": \"Transform\", \"name\": \"5f6446d6-454a-4e67-9150-e46f5dc3b4e8\", \"count\": 2, \"alpha\": 0.3490658503988659, \"phi\": 1.5707963267948966}, \"1\": {\"__type__\": \"Shift\", \"name\": \"cf1b1e03-780b-420a-84f2-ff24cef872b1\", \"count\": 101, \"shifts\": 1}, \"2\": {\"__type__\": \"Epsilon\", \"name\": \"29d9405a-1c5c-4c3b-b592-a72675758155\", \"count\": 101, \"E1\": 1.0100501670841679, \"E2\": 1.0253151205244289, \"meq\": 1.0}}}\n"
     ]
    }
   ],
   "source": [
    "import json\n",
    "\n",
    "print json.dumps(c._repr_json_())"
   ]
  },
  {
   "cell_type": "code",
   "execution_count": 67,
   "metadata": {
    "collapsed": false
   },
   "outputs": [
    {
     "data": {
      "application/json": {
       "E1": 1.010050167084168,
       "E2": 1.0253151205244289,
       "__type__": "Epsilon",
       "count": 101,
       "meq": 1,
       "name": "29d9405a-1c5c-4c3b-b592-a72675758155"
      },
      "text/html": [
       "<b>Epsilon</b> <i>name</i>=29d9405a-1c5c-4c3b-b592-a72675758155 <i>count</i>=101 <i>E1</i>=1.01005016708 <i>E2</i>=1.02531512052 <i>meq</i>=1.0"
      ],
      "text/plain": [
       "<EpyG.EpyG.Epsilon at 0x10dcec7d0>"
      ]
     },
     "execution_count": 67,
     "metadata": {},
     "output_type": "execute_result"
    }
   ],
   "source": [
    "e"
   ]
  },
  {
   "cell_type": "code",
   "execution_count": 68,
   "metadata": {
    "collapsed": false
   },
   "outputs": [
    {
     "data": {
      "application/json": {
       "E1": 1.010050167084168,
       "E2": 1.0253151205244289,
       "__type__": "Epsilon",
       "count": 101,
       "meq": 1,
       "name": "29d9405a-1c5c-4c3b-b592-a72675758155"
      },
      "text/html": [
       "<b>Epsilon</b> <i>name</i>=29d9405a-1c5c-4c3b-b592-a72675758155 <i>count</i>=101 <i>E1</i>=1.01005016708 <i>E2</i>=1.02531512052 <i>meq</i>=1.0"
      ],
      "text/plain": [
       "<EpyG.EpyG.Epsilon at 0x10dcec7d0>"
      ]
     },
     "execution_count": 68,
     "metadata": {},
     "output_type": "execute_result"
    }
   ],
   "source": [
    "e"
   ]
  },
  {
   "cell_type": "code",
   "execution_count": 69,
   "metadata": {
    "collapsed": true
   },
   "outputs": [],
   "source": [
    "a = []\n",
    "a.append(\"blaa\")"
   ]
  },
  {
   "cell_type": "code",
   "execution_count": 71,
   "metadata": {
    "collapsed": false
   },
   "outputs": [
    {
     "data": {
      "application/json": {
       "__type__": "CompositeOperator",
       "count": 0,
       "name": "d72c1249-25a8-4ea4-89a4-db14ad6d11a2",
       "operators": {
        "0": {
         "E1": 1.010050167084168,
         "E2": 1.0253151205244289,
         "__type__": "Epsilon",
         "count": 101,
         "meq": 1,
         "name": "29d9405a-1c5c-4c3b-b592-a72675758155"
        },
        "1": {
         "E1": 1.010050167084168,
         "E2": 1.0253151205244289,
         "__type__": "Epsilon",
         "count": 101,
         "meq": 1,
         "name": "29d9405a-1c5c-4c3b-b592-a72675758155"
        },
        "2": {
         "__type__": "Transform",
         "alpha": 0.3490658503988659,
         "count": 2,
         "name": "5f6446d6-454a-4e67-9150-e46f5dc3b4e8",
         "phi": 1.5707963267948966
        },
        "3": {
         "__type__": "Transform",
         "alpha": 0.3490658503988659,
         "count": 2,
         "name": "5f6446d6-454a-4e67-9150-e46f5dc3b4e8",
         "phi": 1.5707963267948966
        },
        "4": {
         "__type__": "Transform",
         "alpha": 0.3490658503988659,
         "count": 2,
         "name": "5f6446d6-454a-4e67-9150-e46f5dc3b4e8",
         "phi": 1.5707963267948966
        },
        "5": {
         "__type__": "CompositeOperator",
         "count": 0,
         "name": "1fc2425e-2513-49bd-9c5a-fc1cd4442c0f",
         "operators": {
          "0": {
           "__type__": "Transform",
           "alpha": 0.3490658503988659,
           "count": 2,
           "name": "5f6446d6-454a-4e67-9150-e46f5dc3b4e8",
           "phi": 1.5707963267948966
          },
          "1": {
           "__type__": "Transform",
           "alpha": 0.3490658503988659,
           "count": 2,
           "name": "5f6446d6-454a-4e67-9150-e46f5dc3b4e8",
           "phi": 1.5707963267948966
          }
         }
        }
       }
      },
      "text/html": [
       "<b>CompositeOperator</b> name=d72c1249-25a8-4ea4-89a4-db14ad6d11a2 count=0 <ol> <li><b>Epsilon</b> <i>name</i>=29d9405a-1c5c-4c3b-b592-a72675758155 <i>count</i>=101 <i>E1</i>=1.01005016708 <i>E2</i>=1.02531512052 <i>meq</i>=1.0</li> <li><b>Epsilon</b> <i>name</i>=29d9405a-1c5c-4c3b-b592-a72675758155 <i>count</i>=101 <i>E1</i>=1.01005016708 <i>E2</i>=1.02531512052 <i>meq</i>=1.0</li> <li><b>Transform</b> <i>name</i>=5f6446d6-454a-4e67-9150-e46f5dc3b4e8 <i>count</i>=2 <i>alpha</i>=0.349065850399 <i>phi</i>=1.57079632679</li> <li><b>Transform</b> <i>name</i>=5f6446d6-454a-4e67-9150-e46f5dc3b4e8 <i>count</i>=2 <i>alpha</i>=0.349065850399 <i>phi</i>=1.57079632679</li> <li><b>Transform</b> <i>name</i>=5f6446d6-454a-4e67-9150-e46f5dc3b4e8 <i>count</i>=2 <i>alpha</i>=0.349065850399 <i>phi</i>=1.57079632679</li> <li><b>CompositeOperator</b> name=1fc2425e-2513-49bd-9c5a-fc1cd4442c0f count=0 <ol> <li><b>Transform</b> <i>name</i>=5f6446d6-454a-4e67-9150-e46f5dc3b4e8 <i>count</i>=2 <i>alpha</i>=0.349065850399 <i>phi</i>=1.57079632679</li> <li><b>Transform</b> <i>name</i>=5f6446d6-454a-4e67-9150-e46f5dc3b4e8 <i>count</i>=2 <i>alpha</i>=0.349065850399 <i>phi</i>=1.57079632679</li> </ol></li> </ol>"
      ],
      "text/plain": [
       "<EpyG.EpyG.CompositeOperator at 0x10dc8df90>"
      ]
     },
     "execution_count": 71,
     "metadata": {},
     "output_type": "execute_result"
    }
   ],
   "source": [
    "e*e*t*t*t*(t*t)"
   ]
  },
  {
   "cell_type": "code",
   "execution_count": null,
   "metadata": {
    "collapsed": true
   },
   "outputs": [],
   "source": []
  },
  {
   "cell_type": "code",
   "execution_count": null,
   "metadata": {
    "collapsed": true
   },
   "outputs": [],
   "source": []
  },
  {
   "cell_type": "code",
   "execution_count": null,
   "metadata": {
    "collapsed": true
   },
   "outputs": [],
   "source": []
  }
 ],
 "metadata": {
  "kernelspec": {
   "display_name": "Python 2",
   "language": "python",
   "name": "python2"
  },
  "language_info": {
   "codemirror_mode": {
    "name": "ipython",
    "version": 2
   },
   "file_extension": ".py",
   "mimetype": "text/x-python",
   "name": "python",
   "nbconvert_exporter": "python",
   "pygments_lexer": "ipython2",
   "version": "2.7.11"
  }
 },
 "nbformat": 4,
 "nbformat_minor": 0
}
