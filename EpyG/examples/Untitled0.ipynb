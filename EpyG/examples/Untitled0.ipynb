{
 "metadata": {
  "name": "",
  "signature": "sha256:f343213989e572a4df0997e02d4e668ac3ce219456af74422f0088c6ebbd7344"
 },
 "nbformat": 3,
 "nbformat_minor": 0,
 "worksheets": [
  {
   "cells": [
    {
     "cell_type": "code",
     "collapsed": false,
     "input": [
      "%load_ext autoreload\n",
      "%autoreload 2\n",
      "import EpyG as epg"
     ],
     "language": "python",
     "metadata": {},
     "outputs": [],
     "prompt_number": 1
    },
    {
     "cell_type": "code",
     "collapsed": false,
     "input": [
      "%autoreload 2\n",
      "graph = epg.EpyG()\n",
      "\n",
      "s = epg.Shift()\n",
      "e = epg.Epsilon(exp(-10/1000.0),exp(-2.5/100.0))\n",
      "\n",
      "v = []\n",
      "ph = 0.0\n",
      "incr = 0.0\n",
      "for i in range(350):\n",
      "    t = epg.Transform(deg2rad(20.0),ph)\n",
      "#    t.alpha=deg2rad(20.0)\n",
      "    t*graph\n",
      "    v.append(graph.get_F(0))\n",
      "    s*(e*(graph))\n",
      "\n",
      "\n",
      "\n",
      "plot(abs((array(v))))"
     ],
     "language": "python",
     "metadata": {},
     "outputs": [
      {
       "metadata": {},
       "output_type": "pyout",
       "prompt_number": 16,
       "text": [
        "[<matplotlib.lines.Line2D at 0x1069f9310>]"
       ]
      },
      {
       "metadata": {},
       "output_type": "display_data",
       "png": "[encoded data removed]",
       "text": [
        "<matplotlib.figure.Figure at 0x1063f4490>"
       ]
      }
     ],
     "prompt_number": 16
    },
    {
     "cell_type": "code",
     "collapsed": false,
     "input": [
      "%autoreload 2\n",
      "graph = epg.EpyG()\n",
      "print graph.meq\n",
      "t = epg.Transform(deg2rad(180.0),0.0)\n",
      "e = epg.Epsilon(exp(-10.0/100),1.0)\n",
      "v = []\n",
      "t*graph\n",
      "for i in range(20):\n",
      "    v.append(graph.get_Z(0))\n",
      "    e*graph\n",
      "    \n",
      "plot(array(v),'o')"
     ],
     "language": "python",
     "metadata": {},
     "outputs": [
      {
       "output_type": "stream",
       "stream": "stdout",
       "text": [
        "1.0\n"
       ]
      },
      {
       "output_type": "stream",
       "stream": "stderr",
       "text": [
        "/usr/local/Cellar/python/2.7.6/Frameworks/Python.framework/Versions/2.7/lib/python2.7/site-packages/numpy/core/numeric.py:460: ComplexWarning: Casting complex values to real discards the imaginary part\n",
        "  return array(a, dtype, copy=False, order=order)\n"
       ]
      },
      {
       "metadata": {},
       "output_type": "pyout",
       "prompt_number": 3,
       "text": [
        "[<matplotlib.lines.Line2D at 0x1062bccd0>]"
       ]
      },
      {
       "metadata": {},
       "output_type": "display_data",
       "png": "[encoded data removed]",
       "text": [
        "<matplotlib.figure.Figure at 0x106291650>"
       ]
      }
     ],
     "prompt_number": 3
    },
    {
     "cell_type": "code",
     "collapsed": false,
     "input": [],
     "language": "python",
     "metadata": {},
     "outputs": [],
     "prompt_number": 3
    }
   ],
   "metadata": {}
  }
 ]
}